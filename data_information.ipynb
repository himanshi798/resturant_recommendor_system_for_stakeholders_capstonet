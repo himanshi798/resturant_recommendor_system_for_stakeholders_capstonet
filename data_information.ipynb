{
 "cells": [
  {
   "cell_type": "markdown",
   "metadata": {},
   "source": [
    "# Part 2\n",
    "A description of the data and how it will be used to solve the problem is more important. \n",
    "Description of the data that i will be using to solve the problem or execute idea given below. Remembering that i will need to use the Foursquare location data to solve the problem or execute my idea. You can absolutely use other datasets in combination with foursquare if you want to do similar kind of project."
   ]
  },
  {
   "cell_type": "markdown",
   "metadata": {},
   "source": [
    "# Data"
   ]
  },
  {
   "cell_type": "markdown",
   "metadata": {},
   "source": [
    "# Based on definition of our problem, factors that will influence our decission are:\n",
    "\n",
    "number of existing restaurants in the neighborhood (any type of restaurant)\n",
    "number of and distance to Indian restaurants in the neighborhood, if any\n",
    "distance of neighborhood from city center\n",
    "We decided to use regularly spaced grid of locations, centered around city center, to define our neighborhoods.\n",
    "\n",
    "Following data sources will be needed to extract/generate the required information:\n",
    "\n",
    "centers of candidate areas will be generated algorithmically and approximate addresses of centers of those areas will be obtained using Google Maps API reverse geocoding\n",
    "number of restaurants and their type and location in every neighborhood will be obtained using Foursquare API\n",
    "coordinate of Delhi center will be obtained using Google Maps API geocoding of well known Delhi location."
   ]
  },
  {
   "cell_type": "code",
   "execution_count": null,
   "metadata": {},
   "outputs": [],
   "source": []
  }
 ],
 "metadata": {
  "kernelspec": {
   "display_name": "Python 3",
   "language": "python",
   "name": "python3"
  },
  "language_info": {
   "codemirror_mode": {
    "name": "ipython",
    "version": 3
   },
   "file_extension": ".py",
   "mimetype": "text/x-python",
   "name": "python",
   "nbconvert_exporter": "python",
   "pygments_lexer": "ipython3",
   "version": "3.7.3"
  }
 },
 "nbformat": 4,
 "nbformat_minor": 2
}
